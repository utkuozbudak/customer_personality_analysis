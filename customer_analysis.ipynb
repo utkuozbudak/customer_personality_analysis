{
 "cells": [
  {
   "cell_type": "code",
   "execution_count": 1,
   "metadata": {},
   "outputs": [],
   "source": [
    "# Import necessary libraries\n",
    "\n",
    "import pandas as pd\n",
    "import numpy as np\n",
    "import matplotlib\n",
    "import matplotlib.pyplot as plt\n",
    "import seaborn as sns\n",
    "import datetime\n",
    "from sklearn.preprocessing import LabelEncoder"
   ]
  },
  {
   "attachments": {},
   "cell_type": "markdown",
   "metadata": {},
   "source": [
    "# 1. Read Data and Preprocess"
   ]
  },
  {
   "cell_type": "code",
   "execution_count": 2,
   "metadata": {},
   "outputs": [],
   "source": [
    "data = pd.read_csv('marketing_campaign.csv', sep = '\\t')"
   ]
  },
  {
   "cell_type": "code",
   "execution_count": 3,
   "metadata": {},
   "outputs": [
    {
     "data": {
      "text/html": [
       "<div>\n",
       "<style scoped>\n",
       "    .dataframe tbody tr th:only-of-type {\n",
       "        vertical-align: middle;\n",
       "    }\n",
       "\n",
       "    .dataframe tbody tr th {\n",
       "        vertical-align: top;\n",
       "    }\n",
       "\n",
       "    .dataframe thead th {\n",
       "        text-align: right;\n",
       "    }\n",
       "</style>\n",
       "<table border=\"1\" class=\"dataframe\">\n",
       "  <thead>\n",
       "    <tr style=\"text-align: right;\">\n",
       "      <th></th>\n",
       "      <th>ID</th>\n",
       "      <th>Year_Birth</th>\n",
       "      <th>Education</th>\n",
       "      <th>Marital_Status</th>\n",
       "      <th>Income</th>\n",
       "      <th>Kidhome</th>\n",
       "      <th>Teenhome</th>\n",
       "      <th>Dt_Customer</th>\n",
       "      <th>Recency</th>\n",
       "      <th>MntWines</th>\n",
       "      <th>...</th>\n",
       "      <th>NumWebVisitsMonth</th>\n",
       "      <th>AcceptedCmp3</th>\n",
       "      <th>AcceptedCmp4</th>\n",
       "      <th>AcceptedCmp5</th>\n",
       "      <th>AcceptedCmp1</th>\n",
       "      <th>AcceptedCmp2</th>\n",
       "      <th>Complain</th>\n",
       "      <th>Z_CostContact</th>\n",
       "      <th>Z_Revenue</th>\n",
       "      <th>Response</th>\n",
       "    </tr>\n",
       "  </thead>\n",
       "  <tbody>\n",
       "    <tr>\n",
       "      <th>0</th>\n",
       "      <td>5524</td>\n",
       "      <td>1957</td>\n",
       "      <td>Graduation</td>\n",
       "      <td>Single</td>\n",
       "      <td>58138.0</td>\n",
       "      <td>0</td>\n",
       "      <td>0</td>\n",
       "      <td>04-09-2012</td>\n",
       "      <td>58</td>\n",
       "      <td>635</td>\n",
       "      <td>...</td>\n",
       "      <td>7</td>\n",
       "      <td>0</td>\n",
       "      <td>0</td>\n",
       "      <td>0</td>\n",
       "      <td>0</td>\n",
       "      <td>0</td>\n",
       "      <td>0</td>\n",
       "      <td>3</td>\n",
       "      <td>11</td>\n",
       "      <td>1</td>\n",
       "    </tr>\n",
       "    <tr>\n",
       "      <th>1</th>\n",
       "      <td>2174</td>\n",
       "      <td>1954</td>\n",
       "      <td>Graduation</td>\n",
       "      <td>Single</td>\n",
       "      <td>46344.0</td>\n",
       "      <td>1</td>\n",
       "      <td>1</td>\n",
       "      <td>08-03-2014</td>\n",
       "      <td>38</td>\n",
       "      <td>11</td>\n",
       "      <td>...</td>\n",
       "      <td>5</td>\n",
       "      <td>0</td>\n",
       "      <td>0</td>\n",
       "      <td>0</td>\n",
       "      <td>0</td>\n",
       "      <td>0</td>\n",
       "      <td>0</td>\n",
       "      <td>3</td>\n",
       "      <td>11</td>\n",
       "      <td>0</td>\n",
       "    </tr>\n",
       "    <tr>\n",
       "      <th>2</th>\n",
       "      <td>4141</td>\n",
       "      <td>1965</td>\n",
       "      <td>Graduation</td>\n",
       "      <td>Together</td>\n",
       "      <td>71613.0</td>\n",
       "      <td>0</td>\n",
       "      <td>0</td>\n",
       "      <td>21-08-2013</td>\n",
       "      <td>26</td>\n",
       "      <td>426</td>\n",
       "      <td>...</td>\n",
       "      <td>4</td>\n",
       "      <td>0</td>\n",
       "      <td>0</td>\n",
       "      <td>0</td>\n",
       "      <td>0</td>\n",
       "      <td>0</td>\n",
       "      <td>0</td>\n",
       "      <td>3</td>\n",
       "      <td>11</td>\n",
       "      <td>0</td>\n",
       "    </tr>\n",
       "    <tr>\n",
       "      <th>3</th>\n",
       "      <td>6182</td>\n",
       "      <td>1984</td>\n",
       "      <td>Graduation</td>\n",
       "      <td>Together</td>\n",
       "      <td>26646.0</td>\n",
       "      <td>1</td>\n",
       "      <td>0</td>\n",
       "      <td>10-02-2014</td>\n",
       "      <td>26</td>\n",
       "      <td>11</td>\n",
       "      <td>...</td>\n",
       "      <td>6</td>\n",
       "      <td>0</td>\n",
       "      <td>0</td>\n",
       "      <td>0</td>\n",
       "      <td>0</td>\n",
       "      <td>0</td>\n",
       "      <td>0</td>\n",
       "      <td>3</td>\n",
       "      <td>11</td>\n",
       "      <td>0</td>\n",
       "    </tr>\n",
       "    <tr>\n",
       "      <th>4</th>\n",
       "      <td>5324</td>\n",
       "      <td>1981</td>\n",
       "      <td>PhD</td>\n",
       "      <td>Married</td>\n",
       "      <td>58293.0</td>\n",
       "      <td>1</td>\n",
       "      <td>0</td>\n",
       "      <td>19-01-2014</td>\n",
       "      <td>94</td>\n",
       "      <td>173</td>\n",
       "      <td>...</td>\n",
       "      <td>5</td>\n",
       "      <td>0</td>\n",
       "      <td>0</td>\n",
       "      <td>0</td>\n",
       "      <td>0</td>\n",
       "      <td>0</td>\n",
       "      <td>0</td>\n",
       "      <td>3</td>\n",
       "      <td>11</td>\n",
       "      <td>0</td>\n",
       "    </tr>\n",
       "  </tbody>\n",
       "</table>\n",
       "<p>5 rows × 29 columns</p>\n",
       "</div>"
      ],
      "text/plain": [
       "     ID  Year_Birth   Education Marital_Status   Income  Kidhome  Teenhome  \\\n",
       "0  5524        1957  Graduation         Single  58138.0        0         0   \n",
       "1  2174        1954  Graduation         Single  46344.0        1         1   \n",
       "2  4141        1965  Graduation       Together  71613.0        0         0   \n",
       "3  6182        1984  Graduation       Together  26646.0        1         0   \n",
       "4  5324        1981         PhD        Married  58293.0        1         0   \n",
       "\n",
       "  Dt_Customer  Recency  MntWines  ...  NumWebVisitsMonth  AcceptedCmp3  \\\n",
       "0  04-09-2012       58       635  ...                  7             0   \n",
       "1  08-03-2014       38        11  ...                  5             0   \n",
       "2  21-08-2013       26       426  ...                  4             0   \n",
       "3  10-02-2014       26        11  ...                  6             0   \n",
       "4  19-01-2014       94       173  ...                  5             0   \n",
       "\n",
       "   AcceptedCmp4  AcceptedCmp5  AcceptedCmp1  AcceptedCmp2  Complain  \\\n",
       "0             0             0             0             0         0   \n",
       "1             0             0             0             0         0   \n",
       "2             0             0             0             0         0   \n",
       "3             0             0             0             0         0   \n",
       "4             0             0             0             0         0   \n",
       "\n",
       "   Z_CostContact  Z_Revenue  Response  \n",
       "0              3         11         1  \n",
       "1              3         11         0  \n",
       "2              3         11         0  \n",
       "3              3         11         0  \n",
       "4              3         11         0  \n",
       "\n",
       "[5 rows x 29 columns]"
      ]
     },
     "execution_count": 3,
     "metadata": {},
     "output_type": "execute_result"
    }
   ],
   "source": [
    "data.head()"
   ]
  },
  {
   "cell_type": "code",
   "execution_count": 4,
   "metadata": {},
   "outputs": [
    {
     "name": "stdout",
     "output_type": "stream",
     "text": [
      "<class 'pandas.core.frame.DataFrame'>\n",
      "RangeIndex: 2240 entries, 0 to 2239\n",
      "Data columns (total 29 columns):\n",
      " #   Column               Non-Null Count  Dtype  \n",
      "---  ------               --------------  -----  \n",
      " 0   ID                   2240 non-null   int64  \n",
      " 1   Year_Birth           2240 non-null   int64  \n",
      " 2   Education            2240 non-null   object \n",
      " 3   Marital_Status       2240 non-null   object \n",
      " 4   Income               2216 non-null   float64\n",
      " 5   Kidhome              2240 non-null   int64  \n",
      " 6   Teenhome             2240 non-null   int64  \n",
      " 7   Dt_Customer          2240 non-null   object \n",
      " 8   Recency              2240 non-null   int64  \n",
      " 9   MntWines             2240 non-null   int64  \n",
      " 10  MntFruits            2240 non-null   int64  \n",
      " 11  MntMeatProducts      2240 non-null   int64  \n",
      " 12  MntFishProducts      2240 non-null   int64  \n",
      " 13  MntSweetProducts     2240 non-null   int64  \n",
      " 14  MntGoldProds         2240 non-null   int64  \n",
      " 15  NumDealsPurchases    2240 non-null   int64  \n",
      " 16  NumWebPurchases      2240 non-null   int64  \n",
      " 17  NumCatalogPurchases  2240 non-null   int64  \n",
      " 18  NumStorePurchases    2240 non-null   int64  \n",
      " 19  NumWebVisitsMonth    2240 non-null   int64  \n",
      " 20  AcceptedCmp3         2240 non-null   int64  \n",
      " 21  AcceptedCmp4         2240 non-null   int64  \n",
      " 22  AcceptedCmp5         2240 non-null   int64  \n",
      " 23  AcceptedCmp1         2240 non-null   int64  \n",
      " 24  AcceptedCmp2         2240 non-null   int64  \n",
      " 25  Complain             2240 non-null   int64  \n",
      " 26  Z_CostContact        2240 non-null   int64  \n",
      " 27  Z_Revenue            2240 non-null   int64  \n",
      " 28  Response             2240 non-null   int64  \n",
      "dtypes: float64(1), int64(25), object(3)\n",
      "memory usage: 507.6+ KB\n"
     ]
    }
   ],
   "source": [
    "data.info()"
   ]
  },
  {
   "cell_type": "code",
   "execution_count": 5,
   "metadata": {},
   "outputs": [
    {
     "data": {
      "text/html": [
       "<div>\n",
       "<style scoped>\n",
       "    .dataframe tbody tr th:only-of-type {\n",
       "        vertical-align: middle;\n",
       "    }\n",
       "\n",
       "    .dataframe tbody tr th {\n",
       "        vertical-align: top;\n",
       "    }\n",
       "\n",
       "    .dataframe thead th {\n",
       "        text-align: right;\n",
       "    }\n",
       "</style>\n",
       "<table border=\"1\" class=\"dataframe\">\n",
       "  <thead>\n",
       "    <tr style=\"text-align: right;\">\n",
       "      <th></th>\n",
       "      <th>count</th>\n",
       "      <th>mean</th>\n",
       "      <th>std</th>\n",
       "      <th>min</th>\n",
       "      <th>25%</th>\n",
       "      <th>50%</th>\n",
       "      <th>75%</th>\n",
       "      <th>max</th>\n",
       "    </tr>\n",
       "  </thead>\n",
       "  <tbody>\n",
       "    <tr>\n",
       "      <th>ID</th>\n",
       "      <td>2240.0</td>\n",
       "      <td>5592.159821</td>\n",
       "      <td>3246.662198</td>\n",
       "      <td>0.0</td>\n",
       "      <td>2828.25</td>\n",
       "      <td>5458.5</td>\n",
       "      <td>8427.75</td>\n",
       "      <td>11191.0</td>\n",
       "    </tr>\n",
       "    <tr>\n",
       "      <th>Year_Birth</th>\n",
       "      <td>2240.0</td>\n",
       "      <td>1968.805804</td>\n",
       "      <td>11.984069</td>\n",
       "      <td>1893.0</td>\n",
       "      <td>1959.00</td>\n",
       "      <td>1970.0</td>\n",
       "      <td>1977.00</td>\n",
       "      <td>1996.0</td>\n",
       "    </tr>\n",
       "    <tr>\n",
       "      <th>Income</th>\n",
       "      <td>2216.0</td>\n",
       "      <td>52247.251354</td>\n",
       "      <td>25173.076661</td>\n",
       "      <td>1730.0</td>\n",
       "      <td>35303.00</td>\n",
       "      <td>51381.5</td>\n",
       "      <td>68522.00</td>\n",
       "      <td>666666.0</td>\n",
       "    </tr>\n",
       "    <tr>\n",
       "      <th>Kidhome</th>\n",
       "      <td>2240.0</td>\n",
       "      <td>0.444196</td>\n",
       "      <td>0.538398</td>\n",
       "      <td>0.0</td>\n",
       "      <td>0.00</td>\n",
       "      <td>0.0</td>\n",
       "      <td>1.00</td>\n",
       "      <td>2.0</td>\n",
       "    </tr>\n",
       "    <tr>\n",
       "      <th>Teenhome</th>\n",
       "      <td>2240.0</td>\n",
       "      <td>0.506250</td>\n",
       "      <td>0.544538</td>\n",
       "      <td>0.0</td>\n",
       "      <td>0.00</td>\n",
       "      <td>0.0</td>\n",
       "      <td>1.00</td>\n",
       "      <td>2.0</td>\n",
       "    </tr>\n",
       "    <tr>\n",
       "      <th>Recency</th>\n",
       "      <td>2240.0</td>\n",
       "      <td>49.109375</td>\n",
       "      <td>28.962453</td>\n",
       "      <td>0.0</td>\n",
       "      <td>24.00</td>\n",
       "      <td>49.0</td>\n",
       "      <td>74.00</td>\n",
       "      <td>99.0</td>\n",
       "    </tr>\n",
       "    <tr>\n",
       "      <th>MntWines</th>\n",
       "      <td>2240.0</td>\n",
       "      <td>303.935714</td>\n",
       "      <td>336.597393</td>\n",
       "      <td>0.0</td>\n",
       "      <td>23.75</td>\n",
       "      <td>173.5</td>\n",
       "      <td>504.25</td>\n",
       "      <td>1493.0</td>\n",
       "    </tr>\n",
       "    <tr>\n",
       "      <th>MntFruits</th>\n",
       "      <td>2240.0</td>\n",
       "      <td>26.302232</td>\n",
       "      <td>39.773434</td>\n",
       "      <td>0.0</td>\n",
       "      <td>1.00</td>\n",
       "      <td>8.0</td>\n",
       "      <td>33.00</td>\n",
       "      <td>199.0</td>\n",
       "    </tr>\n",
       "    <tr>\n",
       "      <th>MntMeatProducts</th>\n",
       "      <td>2240.0</td>\n",
       "      <td>166.950000</td>\n",
       "      <td>225.715373</td>\n",
       "      <td>0.0</td>\n",
       "      <td>16.00</td>\n",
       "      <td>67.0</td>\n",
       "      <td>232.00</td>\n",
       "      <td>1725.0</td>\n",
       "    </tr>\n",
       "    <tr>\n",
       "      <th>MntFishProducts</th>\n",
       "      <td>2240.0</td>\n",
       "      <td>37.525446</td>\n",
       "      <td>54.628979</td>\n",
       "      <td>0.0</td>\n",
       "      <td>3.00</td>\n",
       "      <td>12.0</td>\n",
       "      <td>50.00</td>\n",
       "      <td>259.0</td>\n",
       "    </tr>\n",
       "    <tr>\n",
       "      <th>MntSweetProducts</th>\n",
       "      <td>2240.0</td>\n",
       "      <td>27.062946</td>\n",
       "      <td>41.280498</td>\n",
       "      <td>0.0</td>\n",
       "      <td>1.00</td>\n",
       "      <td>8.0</td>\n",
       "      <td>33.00</td>\n",
       "      <td>263.0</td>\n",
       "    </tr>\n",
       "    <tr>\n",
       "      <th>MntGoldProds</th>\n",
       "      <td>2240.0</td>\n",
       "      <td>44.021875</td>\n",
       "      <td>52.167439</td>\n",
       "      <td>0.0</td>\n",
       "      <td>9.00</td>\n",
       "      <td>24.0</td>\n",
       "      <td>56.00</td>\n",
       "      <td>362.0</td>\n",
       "    </tr>\n",
       "    <tr>\n",
       "      <th>NumDealsPurchases</th>\n",
       "      <td>2240.0</td>\n",
       "      <td>2.325000</td>\n",
       "      <td>1.932238</td>\n",
       "      <td>0.0</td>\n",
       "      <td>1.00</td>\n",
       "      <td>2.0</td>\n",
       "      <td>3.00</td>\n",
       "      <td>15.0</td>\n",
       "    </tr>\n",
       "    <tr>\n",
       "      <th>NumWebPurchases</th>\n",
       "      <td>2240.0</td>\n",
       "      <td>4.084821</td>\n",
       "      <td>2.778714</td>\n",
       "      <td>0.0</td>\n",
       "      <td>2.00</td>\n",
       "      <td>4.0</td>\n",
       "      <td>6.00</td>\n",
       "      <td>27.0</td>\n",
       "    </tr>\n",
       "    <tr>\n",
       "      <th>NumCatalogPurchases</th>\n",
       "      <td>2240.0</td>\n",
       "      <td>2.662054</td>\n",
       "      <td>2.923101</td>\n",
       "      <td>0.0</td>\n",
       "      <td>0.00</td>\n",
       "      <td>2.0</td>\n",
       "      <td>4.00</td>\n",
       "      <td>28.0</td>\n",
       "    </tr>\n",
       "    <tr>\n",
       "      <th>NumStorePurchases</th>\n",
       "      <td>2240.0</td>\n",
       "      <td>5.790179</td>\n",
       "      <td>3.250958</td>\n",
       "      <td>0.0</td>\n",
       "      <td>3.00</td>\n",
       "      <td>5.0</td>\n",
       "      <td>8.00</td>\n",
       "      <td>13.0</td>\n",
       "    </tr>\n",
       "    <tr>\n",
       "      <th>NumWebVisitsMonth</th>\n",
       "      <td>2240.0</td>\n",
       "      <td>5.316518</td>\n",
       "      <td>2.426645</td>\n",
       "      <td>0.0</td>\n",
       "      <td>3.00</td>\n",
       "      <td>6.0</td>\n",
       "      <td>7.00</td>\n",
       "      <td>20.0</td>\n",
       "    </tr>\n",
       "    <tr>\n",
       "      <th>AcceptedCmp3</th>\n",
       "      <td>2240.0</td>\n",
       "      <td>0.072768</td>\n",
       "      <td>0.259813</td>\n",
       "      <td>0.0</td>\n",
       "      <td>0.00</td>\n",
       "      <td>0.0</td>\n",
       "      <td>0.00</td>\n",
       "      <td>1.0</td>\n",
       "    </tr>\n",
       "    <tr>\n",
       "      <th>AcceptedCmp4</th>\n",
       "      <td>2240.0</td>\n",
       "      <td>0.074554</td>\n",
       "      <td>0.262728</td>\n",
       "      <td>0.0</td>\n",
       "      <td>0.00</td>\n",
       "      <td>0.0</td>\n",
       "      <td>0.00</td>\n",
       "      <td>1.0</td>\n",
       "    </tr>\n",
       "    <tr>\n",
       "      <th>AcceptedCmp5</th>\n",
       "      <td>2240.0</td>\n",
       "      <td>0.072768</td>\n",
       "      <td>0.259813</td>\n",
       "      <td>0.0</td>\n",
       "      <td>0.00</td>\n",
       "      <td>0.0</td>\n",
       "      <td>0.00</td>\n",
       "      <td>1.0</td>\n",
       "    </tr>\n",
       "    <tr>\n",
       "      <th>AcceptedCmp1</th>\n",
       "      <td>2240.0</td>\n",
       "      <td>0.064286</td>\n",
       "      <td>0.245316</td>\n",
       "      <td>0.0</td>\n",
       "      <td>0.00</td>\n",
       "      <td>0.0</td>\n",
       "      <td>0.00</td>\n",
       "      <td>1.0</td>\n",
       "    </tr>\n",
       "    <tr>\n",
       "      <th>AcceptedCmp2</th>\n",
       "      <td>2240.0</td>\n",
       "      <td>0.013393</td>\n",
       "      <td>0.114976</td>\n",
       "      <td>0.0</td>\n",
       "      <td>0.00</td>\n",
       "      <td>0.0</td>\n",
       "      <td>0.00</td>\n",
       "      <td>1.0</td>\n",
       "    </tr>\n",
       "    <tr>\n",
       "      <th>Complain</th>\n",
       "      <td>2240.0</td>\n",
       "      <td>0.009375</td>\n",
       "      <td>0.096391</td>\n",
       "      <td>0.0</td>\n",
       "      <td>0.00</td>\n",
       "      <td>0.0</td>\n",
       "      <td>0.00</td>\n",
       "      <td>1.0</td>\n",
       "    </tr>\n",
       "    <tr>\n",
       "      <th>Z_CostContact</th>\n",
       "      <td>2240.0</td>\n",
       "      <td>3.000000</td>\n",
       "      <td>0.000000</td>\n",
       "      <td>3.0</td>\n",
       "      <td>3.00</td>\n",
       "      <td>3.0</td>\n",
       "      <td>3.00</td>\n",
       "      <td>3.0</td>\n",
       "    </tr>\n",
       "    <tr>\n",
       "      <th>Z_Revenue</th>\n",
       "      <td>2240.0</td>\n",
       "      <td>11.000000</td>\n",
       "      <td>0.000000</td>\n",
       "      <td>11.0</td>\n",
       "      <td>11.00</td>\n",
       "      <td>11.0</td>\n",
       "      <td>11.00</td>\n",
       "      <td>11.0</td>\n",
       "    </tr>\n",
       "    <tr>\n",
       "      <th>Response</th>\n",
       "      <td>2240.0</td>\n",
       "      <td>0.149107</td>\n",
       "      <td>0.356274</td>\n",
       "      <td>0.0</td>\n",
       "      <td>0.00</td>\n",
       "      <td>0.0</td>\n",
       "      <td>0.00</td>\n",
       "      <td>1.0</td>\n",
       "    </tr>\n",
       "  </tbody>\n",
       "</table>\n",
       "</div>"
      ],
      "text/plain": [
       "                      count          mean           std     min       25%  \\\n",
       "ID                   2240.0   5592.159821   3246.662198     0.0   2828.25   \n",
       "Year_Birth           2240.0   1968.805804     11.984069  1893.0   1959.00   \n",
       "Income               2216.0  52247.251354  25173.076661  1730.0  35303.00   \n",
       "Kidhome              2240.0      0.444196      0.538398     0.0      0.00   \n",
       "Teenhome             2240.0      0.506250      0.544538     0.0      0.00   \n",
       "Recency              2240.0     49.109375     28.962453     0.0     24.00   \n",
       "MntWines             2240.0    303.935714    336.597393     0.0     23.75   \n",
       "MntFruits            2240.0     26.302232     39.773434     0.0      1.00   \n",
       "MntMeatProducts      2240.0    166.950000    225.715373     0.0     16.00   \n",
       "MntFishProducts      2240.0     37.525446     54.628979     0.0      3.00   \n",
       "MntSweetProducts     2240.0     27.062946     41.280498     0.0      1.00   \n",
       "MntGoldProds         2240.0     44.021875     52.167439     0.0      9.00   \n",
       "NumDealsPurchases    2240.0      2.325000      1.932238     0.0      1.00   \n",
       "NumWebPurchases      2240.0      4.084821      2.778714     0.0      2.00   \n",
       "NumCatalogPurchases  2240.0      2.662054      2.923101     0.0      0.00   \n",
       "NumStorePurchases    2240.0      5.790179      3.250958     0.0      3.00   \n",
       "NumWebVisitsMonth    2240.0      5.316518      2.426645     0.0      3.00   \n",
       "AcceptedCmp3         2240.0      0.072768      0.259813     0.0      0.00   \n",
       "AcceptedCmp4         2240.0      0.074554      0.262728     0.0      0.00   \n",
       "AcceptedCmp5         2240.0      0.072768      0.259813     0.0      0.00   \n",
       "AcceptedCmp1         2240.0      0.064286      0.245316     0.0      0.00   \n",
       "AcceptedCmp2         2240.0      0.013393      0.114976     0.0      0.00   \n",
       "Complain             2240.0      0.009375      0.096391     0.0      0.00   \n",
       "Z_CostContact        2240.0      3.000000      0.000000     3.0      3.00   \n",
       "Z_Revenue            2240.0     11.000000      0.000000    11.0     11.00   \n",
       "Response             2240.0      0.149107      0.356274     0.0      0.00   \n",
       "\n",
       "                         50%       75%       max  \n",
       "ID                    5458.5   8427.75   11191.0  \n",
       "Year_Birth            1970.0   1977.00    1996.0  \n",
       "Income               51381.5  68522.00  666666.0  \n",
       "Kidhome                  0.0      1.00       2.0  \n",
       "Teenhome                 0.0      1.00       2.0  \n",
       "Recency                 49.0     74.00      99.0  \n",
       "MntWines               173.5    504.25    1493.0  \n",
       "MntFruits                8.0     33.00     199.0  \n",
       "MntMeatProducts         67.0    232.00    1725.0  \n",
       "MntFishProducts         12.0     50.00     259.0  \n",
       "MntSweetProducts         8.0     33.00     263.0  \n",
       "MntGoldProds            24.0     56.00     362.0  \n",
       "NumDealsPurchases        2.0      3.00      15.0  \n",
       "NumWebPurchases          4.0      6.00      27.0  \n",
       "NumCatalogPurchases      2.0      4.00      28.0  \n",
       "NumStorePurchases        5.0      8.00      13.0  \n",
       "NumWebVisitsMonth        6.0      7.00      20.0  \n",
       "AcceptedCmp3             0.0      0.00       1.0  \n",
       "AcceptedCmp4             0.0      0.00       1.0  \n",
       "AcceptedCmp5             0.0      0.00       1.0  \n",
       "AcceptedCmp1             0.0      0.00       1.0  \n",
       "AcceptedCmp2             0.0      0.00       1.0  \n",
       "Complain                 0.0      0.00       1.0  \n",
       "Z_CostContact            3.0      3.00       3.0  \n",
       "Z_Revenue               11.0     11.00      11.0  \n",
       "Response                 0.0      0.00       1.0  "
      ]
     },
     "execution_count": 5,
     "metadata": {},
     "output_type": "execute_result"
    }
   ],
   "source": [
    "data.describe().T"
   ]
  },
  {
   "cell_type": "code",
   "execution_count": 6,
   "metadata": {},
   "outputs": [
    {
     "data": {
      "text/plain": [
       "ID                      0\n",
       "Year_Birth              0\n",
       "Education               0\n",
       "Marital_Status          0\n",
       "Income                 24\n",
       "Kidhome                 0\n",
       "Teenhome                0\n",
       "Dt_Customer             0\n",
       "Recency                 0\n",
       "MntWines                0\n",
       "MntFruits               0\n",
       "MntMeatProducts         0\n",
       "MntFishProducts         0\n",
       "MntSweetProducts        0\n",
       "MntGoldProds            0\n",
       "NumDealsPurchases       0\n",
       "NumWebPurchases         0\n",
       "NumCatalogPurchases     0\n",
       "NumStorePurchases       0\n",
       "NumWebVisitsMonth       0\n",
       "AcceptedCmp3            0\n",
       "AcceptedCmp4            0\n",
       "AcceptedCmp5            0\n",
       "AcceptedCmp1            0\n",
       "AcceptedCmp2            0\n",
       "Complain                0\n",
       "Z_CostContact           0\n",
       "Z_Revenue               0\n",
       "Response                0\n",
       "dtype: int64"
      ]
     },
     "execution_count": 6,
     "metadata": {},
     "output_type": "execute_result"
    }
   ],
   "source": [
    "data.isnull().sum()"
   ]
  },
  {
   "cell_type": "code",
   "execution_count": 7,
   "metadata": {},
   "outputs": [
    {
     "data": {
      "text/plain": [
       "(2240, 29)"
      ]
     },
     "execution_count": 7,
     "metadata": {},
     "output_type": "execute_result"
    }
   ],
   "source": [
    "data.shape"
   ]
  },
  {
   "attachments": {},
   "cell_type": "markdown",
   "metadata": {},
   "source": [
    "There are 24 missing values in the \"Income\" column, and given the limited amount of data entries, I propose replacing these null values with the median instead of deleting the corresponding rows. This approach will prevent us from losing any valuable information."
   ]
  },
  {
   "cell_type": "code",
   "execution_count": 8,
   "metadata": {},
   "outputs": [
    {
     "data": {
      "text/plain": [
       "0"
      ]
     },
     "execution_count": 8,
     "metadata": {},
     "output_type": "execute_result"
    }
   ],
   "source": [
    "# Replace null values in \"Income\" column with median\n",
    "median_income = data['Income'].median()\n",
    "data['Income'].fillna(median_income, inplace=True)\n",
    "# Check if there is any null value left\n",
    "data['Income'].isnull().sum()"
   ]
  },
  {
   "attachments": {},
   "cell_type": "markdown",
   "metadata": {},
   "source": [
    "We also need to encode categorical columns."
   ]
  },
  {
   "cell_type": "code",
   "execution_count": 9,
   "metadata": {},
   "outputs": [
    {
     "data": {
      "text/plain": [
       "array(['Single', 'Together', 'Married', 'Divorced', 'Widow', 'Alone',\n",
       "       'Absurd', 'YOLO'], dtype=object)"
      ]
     },
     "execution_count": 9,
     "metadata": {},
     "output_type": "execute_result"
    }
   ],
   "source": [
    "data['Marital_Status'].unique()"
   ]
  },
  {
   "attachments": {},
   "cell_type": "markdown",
   "metadata": {},
   "source": [
    "Marital status and education both have multiple categories that are synonymous. For instance, the terms \"Divorced\", \"Widow\", \"Alone\", \"Absurd\", and \"Yolo\" can all be classified as \"Single\", while \"Together\" and \"Married\" can be grouped as \"Relationship\". "
   ]
  },
  {
   "cell_type": "code",
   "execution_count": 10,
   "metadata": {},
   "outputs": [],
   "source": [
    "# Replace \"Divorced\", \"Widow\", \"Alone\", \"Absurd\", \"Yolo\" with \"Single\"\n",
    "data['Marital_Status'] = data['Marital_Status'].replace(['Divorced', 'Widow', 'Alone', 'Absurd', 'YOLO'], 'Single')\n",
    "# Replace \"Together\" and \"Married\" with \"Relationship\"\n",
    "data['Marital_Status'] = data['Marital_Status'].replace(['Together','Married'], 'Relationship')\n"
   ]
  },
  {
   "cell_type": "code",
   "execution_count": 11,
   "metadata": {},
   "outputs": [
    {
     "data": {
      "text/plain": [
       "array(['Single', 'Relationship'], dtype=object)"
      ]
     },
     "execution_count": 11,
     "metadata": {},
     "output_type": "execute_result"
    }
   ],
   "source": [
    "data['Marital_Status'].unique()"
   ]
  },
  {
   "cell_type": "code",
   "execution_count": 12,
   "metadata": {},
   "outputs": [
    {
     "data": {
      "text/plain": [
       "array(['Graduation', 'PhD', 'Master', 'Basic', '2n Cycle'], dtype=object)"
      ]
     },
     "execution_count": 12,
     "metadata": {},
     "output_type": "execute_result"
    }
   ],
   "source": [
    "data['Education'].unique()"
   ]
  },
  {
   "attachments": {},
   "cell_type": "markdown",
   "metadata": {},
   "source": [
    "Similarly, the designations \"2nd Cycle\", \"Master\", and \"PhD\" can be classified as \"Postgraduate\", while \"Basic\" can be categorized as \"Undergraduate\"."
   ]
  },
  {
   "cell_type": "code",
   "execution_count": 13,
   "metadata": {},
   "outputs": [],
   "source": [
    "# Replace \"Basic\" with \"Undergraduate\"\n",
    "data['Education'] = data['Education'].replace(['Basic'], 'Undergraduate')\n",
    "# Replace \"2nd Cycle\", \"Master\" and \"PhD\" with \"Postgraduate\"\n",
    "data['Education'] = data['Education'].replace(['2n Cycle', 'Master', 'Graduation','PhD'], 'Postgraduate')"
   ]
  },
  {
   "cell_type": "code",
   "execution_count": 14,
   "metadata": {},
   "outputs": [
    {
     "data": {
      "text/plain": [
       "array(['Postgraduate', 'Undergraduate'], dtype=object)"
      ]
     },
     "execution_count": 14,
     "metadata": {},
     "output_type": "execute_result"
    }
   ],
   "source": [
    "data['Education'].unique()"
   ]
  },
  {
   "cell_type": "code",
   "execution_count": 15,
   "metadata": {},
   "outputs": [
    {
     "name": "stdout",
     "output_type": "stream",
     "text": [
      "['Postgraduate', 'Undergraduate']\n",
      "Education labels: \n",
      " \t0: Postgraduate\n",
      " \t1: Undergraduate\n",
      "\n",
      "['Relationship', 'Single']\n",
      "Maritial status labels: \n",
      " \t0: Relationship\n",
      " \t1: Single\n"
     ]
    }
   ],
   "source": [
    "# Convert categorical variables to numerical variables\n",
    "label_encoder = LabelEncoder()\n",
    "\n",
    "# Education\n",
    "label_encoder.fit(data['Education'])\n",
    "print(list(label_encoder.classes_))\n",
    "data['Education'] = label_encoder.transform(data['Education'])\n",
    "print(\"Education labels: \\n\", \"\\t0: %s\\n \\t1: %s\\n\" % tuple(label_encoder.inverse_transform([0, 1])))\n",
    "\n",
    "# Marital_Status\n",
    "label_encoder.fit(data['Marital_Status'])\n",
    "print(list(label_encoder.classes_))\n",
    "data['Marital_Status'] = label_encoder.transform(data['Marital_Status'])\n",
    "print(\"Maritial status labels: \\n\", \"\\t0: %s\\n \\t1: %s\" % tuple(label_encoder.inverse_transform([0, 1])))"
   ]
  },
  {
   "cell_type": "code",
   "execution_count": 16,
   "metadata": {},
   "outputs": [],
   "source": [
    "# Convert \"Dt_Customer\"\" to datetime\n",
    "data[\"Dt_Customer\"] = pd.to_datetime(data[\"Dt_Customer\"], format=\"%d-%m-%Y\")\n",
    "# Rename \"Dt_Customer\" as \"Date\"\n",
    "data.rename(columns={\"Dt_Customer\": \"Date\"}, inplace=True)\n"
   ]
  },
  {
   "cell_type": "code",
   "execution_count": 17,
   "metadata": {},
   "outputs": [
    {
     "name": "stdout",
     "output_type": "stream",
     "text": [
      "<class 'pandas.core.frame.DataFrame'>\n",
      "RangeIndex: 2240 entries, 0 to 2239\n",
      "Data columns (total 29 columns):\n",
      " #   Column               Non-Null Count  Dtype         \n",
      "---  ------               --------------  -----         \n",
      " 0   ID                   2240 non-null   int64         \n",
      " 1   Year_Birth           2240 non-null   int64         \n",
      " 2   Education            2240 non-null   int64         \n",
      " 3   Marital_Status       2240 non-null   int64         \n",
      " 4   Income               2240 non-null   float64       \n",
      " 5   Kidhome              2240 non-null   int64         \n",
      " 6   Teenhome             2240 non-null   int64         \n",
      " 7   Date                 2240 non-null   datetime64[ns]\n",
      " 8   Recency              2240 non-null   int64         \n",
      " 9   MntWines             2240 non-null   int64         \n",
      " 10  MntFruits            2240 non-null   int64         \n",
      " 11  MntMeatProducts      2240 non-null   int64         \n",
      " 12  MntFishProducts      2240 non-null   int64         \n",
      " 13  MntSweetProducts     2240 non-null   int64         \n",
      " 14  MntGoldProds         2240 non-null   int64         \n",
      " 15  NumDealsPurchases    2240 non-null   int64         \n",
      " 16  NumWebPurchases      2240 non-null   int64         \n",
      " 17  NumCatalogPurchases  2240 non-null   int64         \n",
      " 18  NumStorePurchases    2240 non-null   int64         \n",
      " 19  NumWebVisitsMonth    2240 non-null   int64         \n",
      " 20  AcceptedCmp3         2240 non-null   int64         \n",
      " 21  AcceptedCmp4         2240 non-null   int64         \n",
      " 22  AcceptedCmp5         2240 non-null   int64         \n",
      " 23  AcceptedCmp1         2240 non-null   int64         \n",
      " 24  AcceptedCmp2         2240 non-null   int64         \n",
      " 25  Complain             2240 non-null   int64         \n",
      " 26  Z_CostContact        2240 non-null   int64         \n",
      " 27  Z_Revenue            2240 non-null   int64         \n",
      " 28  Response             2240 non-null   int64         \n",
      "dtypes: datetime64[ns](1), float64(1), int64(27)\n",
      "memory usage: 507.6 KB\n"
     ]
    }
   ],
   "source": [
    "data.info()"
   ]
  },
  {
   "cell_type": "code",
   "execution_count": 18,
   "metadata": {},
   "outputs": [],
   "source": [
    "# We don't need Z_CostContact and Z_Revenue columns\n",
    "data.drop([\"Z_CostContact\", \"Z_Revenue\"], axis=1, inplace=True)"
   ]
  },
  {
   "attachments": {},
   "cell_type": "markdown",
   "metadata": {},
   "source": [
    "# 2. Data Analysis"
   ]
  },
  {
   "cell_type": "code",
   "execution_count": 19,
   "metadata": {},
   "outputs": [],
   "source": [
    "# Some default configs\n",
    "matplotlib.rcParams['figure.figsize'] = (10, 10)\n",
    "sns.set_theme(style=\"whitegrid\")"
   ]
  },
  {
   "cell_type": "code",
   "execution_count": 22,
   "metadata": {},
   "outputs": [
    {
     "data": {
      "text/plain": [
       "<AxesSubplot:xlabel='Age', ylabel='Count'>"
      ]
     },
     "execution_count": 22,
     "metadata": {},
     "output_type": "execute_result"
    },
    {
     "data": {
      "image/png": "[encoded data removed]",
      "text/plain": [
       "<Figure size 720x720 with 1 Axes>"
      ]
     },
     "metadata": {},
     "output_type": "display_data"
    }
   ],
   "source": [
    "# Let's start our data analysis by looking at the distribution of Age\n",
    "\n",
    "# Calculate age from birth year\n",
    "current_year = datetime.datetime.now().year\n",
    "data[\"Age\"] = current_year - data[\"Year_Birth\"]\n",
    "\n",
    "# Plot the distribution of Age\n",
    "sns.histplot(data[\"Age\"], kde=True)"
   ]
  },
  {
   "cell_type": "code",
   "execution_count": 21,
   "metadata": {},
   "outputs": [
    {
     "data": {
      "text/plain": [
       "<AxesSubplot:xlabel='Income', ylabel='Count'>"
      ]
     },
     "execution_count": 21,
     "metadata": {},
     "output_type": "execute_result"
    },
    {
     "data": {
      "image/png": "[encoded data removed]",
      "text/plain": [
       "<Figure size 720x720 with 1 Axes>"
      ]
     },
     "metadata": {},
     "output_type": "display_data"
    }
   ],
   "source": [
    "# Let's look at the distribution of Income\n",
    "sns.histplot(data[\"Income\"], kde=True)"
   ]
  },
  {
   "cell_type": "markdown",
   "metadata": {},
   "source": []
  }
 ],
 "metadata": {
  "kernelspec": {
   "display_name": "base",
   "language": "python",
   "name": "python3"
  },
  "language_info": {
   "codemirror_mode": {
    "name": "ipython",
    "version": 3
   },
   "file_extension": ".py",
   "mimetype": "text/x-python",
   "name": "python",
   "nbconvert_exporter": "python",
   "pygments_lexer": "ipython3",
   "version": "3.9.12"
  },
  "orig_nbformat": 4
 },
 "nbformat": 4,
 "nbformat_minor": 2
}
